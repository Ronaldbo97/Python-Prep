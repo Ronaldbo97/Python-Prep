{
 "cells": [
  {
   "attachments": {},
   "cell_type": "markdown",
   "metadata": {},
   "source": [
    "## Flujos de Control"
   ]
  },
  {
   "attachments": {},
   "cell_type": "markdown",
   "metadata": {},
   "source": [
    "1) Crear una variable que contenga un elemento del conjunto de números enteros y luego imprimir por pantalla si es mayor o menor a cero"
   ]
  },
  {
   "cell_type": "code",
   "execution_count": 99,
   "metadata": {},
   "outputs": [
    {
     "name": "stdout",
     "output_type": "stream",
     "text": [
      "Es mayor que cero\n"
     ]
    }
   ],
   "source": [
    "var1 = 8\n",
    "if var1 >0:\n",
    "    print('Es mayor que cero')\n",
    "elif var1 == 0:\n",
    "    print('Es igual a cero')\n",
    "else:\n",
    "    print('Is menor que cero')\n"
   ]
  },
  {
   "attachments": {},
   "cell_type": "markdown",
   "metadata": {},
   "source": [
    "2) Crear dos variables y un condicional que informe si son del mismo tipo de dato"
   ]
  },
  {
   "cell_type": "code",
   "execution_count": 100,
   "metadata": {},
   "outputs": [
    {
     "name": "stdout",
     "output_type": "stream",
     "text": [
      "Las variables 2 y 2 son de diferente tipo de dato\n"
     ]
    }
   ],
   "source": [
    "var1 = '2'\n",
    "var2 = 2\n",
    "if type(var1) == type(var2):\n",
    "    print(f'las variables {var1} y {var2} son del mismo tipo de dato')\n",
    "else:\n",
    "    print(f'Las variables {var1} y {var2} son de diferente tipo de dato')\n"
   ]
  },
  {
   "attachments": {},
   "cell_type": "markdown",
   "metadata": {},
   "source": [
    "3) Para los valores enteros del 1 al 20, imprimir por pantalla si es par o impar"
   ]
  },
  {
   "cell_type": "code",
   "execution_count": 101,
   "metadata": {},
   "outputs": [
    {
     "name": "stdout",
     "output_type": "stream",
     "text": [
      "1 es impar\n",
      "2 es par\n",
      "3 es impar\n",
      "4 es par\n",
      "5 es impar\n",
      "6 es par\n",
      "7 es impar\n",
      "8 es par\n",
      "9 es impar\n",
      "10 es par\n",
      "11 es impar\n",
      "12 es par\n",
      "13 es impar\n",
      "14 es par\n",
      "15 es impar\n",
      "16 es par\n",
      "17 es impar\n",
      "18 es par\n",
      "19 es impar\n",
      "20 es par\n"
     ]
    }
   ],
   "source": [
    "entero = 0\n",
    "for i in range(1,21):\n",
    "    entero = i%2\n",
    "    if entero == 0:\n",
    "        print(f'{i} es par')\n",
    "    else:\n",
    "        print(f'{i} es impar')\n",
    "    "
   ]
  },
  {
   "attachments": {},
   "cell_type": "markdown",
   "metadata": {},
   "source": [
    "4) En un ciclo for mostrar para los valores entre 0 y 5 el resultado de elevarlo a la potencia igual a 3"
   ]
  },
  {
   "cell_type": "code",
   "execution_count": 102,
   "metadata": {},
   "outputs": [
    {
     "name": "stdout",
     "output_type": "stream",
     "text": [
      "0\n",
      "1\n",
      "8\n",
      "27\n",
      "64\n",
      "125\n"
     ]
    }
   ],
   "source": [
    "for i in range(0,6):\n",
    "    pot3= i**3\n",
    "    print(pot3)"
   ]
  },
  {
   "attachments": {},
   "cell_type": "markdown",
   "metadata": {},
   "source": [
    "5) Crear una variable que contenga un número entero y realizar un ciclo for la misma cantidad de ciclos"
   ]
  },
  {
   "cell_type": "code",
   "execution_count": 103,
   "metadata": {},
   "outputs": [
    {
     "name": "stdout",
     "output_type": "stream",
     "text": [
      "7\n"
     ]
    }
   ],
   "source": [
    "var3 = 8\n",
    "for i in range(0,var3):\n",
    "    pass\n",
    "print(i)"
   ]
  },
  {
   "attachments": {},
   "cell_type": "markdown",
   "metadata": {},
   "source": [
    "6) Utilizar un ciclo while para realizar el factorial de un número guardado en una variable, sólo si la variable contiene un número entero mayor a 0"
   ]
  },
  {
   "cell_type": "code",
   "execution_count": 104,
   "metadata": {},
   "outputs": [
    {
     "name": "stdout",
     "output_type": "stream",
     "text": [
      "El factorial es: 6\n"
     ]
    }
   ],
   "source": [
    "num = 3\n",
    "if num > 0:\n",
    "    fact = num\n",
    "    while (num > 2):\n",
    "        num = num - 1\n",
    "        fact = fact * num             \n",
    "    print(f'El factorial es: {fact}')\n",
    "else:\n",
    "    print(f'El numero ingresado debe ser mayor que 0.')\n",
    "\n",
    "    "
   ]
  },
  {
   "cell_type": "code",
   "execution_count": 105,
   "metadata": {},
   "outputs": [
    {
     "name": "stdout",
     "output_type": "stream",
     "text": [
      "40320\n"
     ]
    }
   ],
   "source": [
    "fact = 8\n",
    "cont= 0\n",
    "resul = 1\n",
    "while (cont < fact):\n",
    "    cont = cont + 1\n",
    "    resul = resul * cont\n",
    "print(resul)   \n"
   ]
  },
  {
   "attachments": {},
   "cell_type": "markdown",
   "metadata": {},
   "source": [
    "7) Crear un ciclo for dentro de un ciclo while"
   ]
  },
  {
   "cell_type": "code",
   "execution_count": 106,
   "metadata": {},
   "outputs": [
    {
     "name": "stdout",
     "output_type": "stream",
     "text": [
      "1\n",
      "1\n",
      "2\n",
      "1\n",
      "2\n",
      "3\n",
      "1\n",
      "2\n",
      "3\n",
      "4\n",
      "1\n",
      "2\n",
      "3\n",
      "4\n",
      "5\n"
     ]
    }
   ],
   "source": [
    "n=1\n",
    "while(n <= 5):\n",
    "   \n",
    "    for i in range(1,n+1):\n",
    "        print(i)\n",
    "    n = n + 1"
   ]
  },
  {
   "cell_type": "code",
   "execution_count": 107,
   "metadata": {},
   "outputs": [
    {
     "name": "stdout",
     "output_type": "stream",
     "text": [
      "Ciclo while nro 1\n",
      "Ciclo for nro 1\n",
      "Ciclo while nro 2\n",
      "Ciclo for nro 1\n",
      "Ciclo for nro 2\n",
      "Ciclo while nro 3\n",
      "Ciclo for nro 1\n",
      "Ciclo for nro 2\n",
      "Ciclo for nro 3\n",
      "Ciclo while nro 4\n",
      "Ciclo for nro 1\n",
      "Ciclo for nro 2\n",
      "Ciclo for nro 3\n",
      "Ciclo for nro 4\n"
     ]
    }
   ],
   "source": [
    "n = 1\n",
    "while n < 5:\n",
    "    print('Ciclo while nro ' + str(n))  # Imprime el número del ciclo while\n",
    "    for i in range(1, n+1): # como la función range(a, b) genera una secuencia de números desde a hasta b-1. Para que el bucle for incluya el número n, usamos range(1, n+1) en lugar de range(1, n).\n",
    "        print('Ciclo for nro ' + str(i))  # Imprime el número del ciclo for\n",
    "    n += 1"
   ]
  },
  {
   "attachments": {},
   "cell_type": "markdown",
   "metadata": {},
   "source": [
    "8) Crear un ciclo while dentro de un ciclo for"
   ]
  },
  {
   "cell_type": "code",
   "execution_count": 113,
   "metadata": {},
   "outputs": [
    {
     "name": "stdout",
     "output_type": "stream",
     "text": [
      "i= 1\n",
      "5\n",
      "4\n",
      "3\n",
      "2\n",
      "1\n",
      "i= 2\n",
      "4\n",
      "3\n",
      "2\n",
      "1\n",
      "i= 3\n",
      "3\n",
      "2\n",
      "1\n",
      "i= 4\n",
      "2\n",
      "1\n",
      "i= 5\n",
      "1\n"
     ]
    }
   ],
   "source": [
    "n=6\n",
    "\n",
    "for i in range(1,n):\n",
    "    print('i=',i)\n",
    "    n_temp = n - i\n",
    "    while n_temp > 0:\n",
    "        print(n_temp)\n",
    "        n_temp -=1\n",
    "    "
   ]
  },
  {
   "attachments": {},
   "cell_type": "markdown",
   "metadata": {},
   "source": [
    "9) Imprimir los números primos existentes entre 0 y 30"
   ]
  },
  {
   "cell_type": "code",
   "execution_count": 169,
   "metadata": {},
   "outputs": [
    {
     "name": "stdout",
     "output_type": "stream",
     "text": [
      "2  es primo\n",
      "3  es primo\n",
      "5  es primo\n",
      "7  es primo\n",
      "11  es primo\n",
      "13  es primo\n",
      "17  es primo\n",
      "19  es primo\n",
      "23  es primo\n",
      "29  es primo\n"
     ]
    }
   ],
   "source": [
    "\n",
    "for i in range(2,30):\n",
    "#    print(f'----{i}-----')\n",
    "    j=1\n",
    "    cont = 0\n",
    "    while j <= i:\n",
    "        div = i%j    \n",
    "        if div == 0:\n",
    "            cont +=1          \n",
    "        j += 1\n",
    "    if cont <= 2:\n",
    "        print(i,' es primo')\n"
   ]
  },
  {
   "attachments": {},
   "cell_type": "markdown",
   "metadata": {},
   "source": [
    "10) ¿Se puede mejorar el proceso del punto 9? Utilizar las sentencias break y/ó continue para tal fin"
   ]
  },
  {
   "cell_type": "code",
   "execution_count": 170,
   "metadata": {},
   "outputs": [
    {
     "name": "stdout",
     "output_type": "stream",
     "text": [
      "2  es primo\n",
      "3  es primo\n",
      "5  es primo\n",
      "7  es primo\n",
      "11  es primo\n",
      "13  es primo\n",
      "17  es primo\n",
      "19  es primo\n",
      "23  es primo\n",
      "29  es primo\n"
     ]
    }
   ],
   "source": [
    "for i in range(2,30):\n",
    "#    print(f'----{i}-----')\n",
    "    j=1\n",
    "    cont = 0\n",
    "    primo = True\n",
    "    while j <= i:\n",
    "        div = i%j    \n",
    "        if div == 0:\n",
    "            cont +=1\n",
    "            if cont > 2:\n",
    "                primo = False\n",
    "                break   \n",
    "        j += 1\n",
    "    if primo:\n",
    "        print(i,' es primo')"
   ]
  },
  {
   "attachments": {},
   "cell_type": "markdown",
   "metadata": {},
   "source": [
    "11) En los puntos 9 y 10, se diseño un código que encuentra números primos y además se lo optimizó. ¿Es posible saber en qué medida se optimizó?"
   ]
  },
  {
   "cell_type": "code",
   "execution_count": 171,
   "metadata": {},
   "outputs": [
    {
     "name": "stdout",
     "output_type": "stream",
     "text": [
      "2  es primo\n",
      "3  es primo\n",
      "5  es primo\n",
      "7  es primo\n",
      "11  es primo\n",
      "13  es primo\n",
      "17  es primo\n",
      "19  es primo\n",
      "23  es primo\n",
      "29  es primo\n",
      "434\n"
     ]
    }
   ],
   "source": [
    "iteraciones = 0\n",
    "for i in range(2,30):\n",
    "#    print(f'----{i}-----')\n",
    "    j=1\n",
    "    cont = 0\n",
    "    while j <= i:\n",
    "        div = i%j \n",
    "        iteraciones += 1   \n",
    "        if div == 0:\n",
    "            cont +=1          \n",
    "        j += 1\n",
    "    if cont <= 2:\n",
    "        print(i,' es primo')\n",
    "print(iteraciones)"
   ]
  },
  {
   "cell_type": "code",
   "execution_count": 176,
   "metadata": {},
   "outputs": [
    {
     "name": "stdout",
     "output_type": "stream",
     "text": [
      "2  es primo\n",
      "3  es primo\n",
      "5  es primo\n",
      "7  es primo\n",
      "11  es primo\n",
      "13  es primo\n",
      "17  es primo\n",
      "19  es primo\n",
      "23  es primo\n",
      "29  es primo\n",
      "252\n",
      "1.0\n"
     ]
    }
   ],
   "source": [
    "iteraciones_break = 0\n",
    "for i in range(2,30):\n",
    "#    print(f'----{i}-----')\n",
    "    j=1\n",
    "    cont = 0\n",
    "    primo = True\n",
    "    while j <= i:\n",
    "        div = i%j \n",
    "        iteraciones_break += 1   \n",
    "        if div == 0:\n",
    "            cont +=1\n",
    "            if cont > 2:\n",
    "                primo = False\n",
    "                break   \n",
    "        j += 1\n",
    "    if primo:\n",
    "        print(i,' es primo')\n",
    "print(str(iteraciones_break))\n",
    "print(str(iteraciones_break/iteraciones))"
   ]
  },
  {
   "attachments": {},
   "cell_type": "markdown",
   "metadata": {},
   "source": [
    "12) Aplicando continue, armar un ciclo while que solo imprima los valores divisibles por 12, dentro del rango de números de 100 a 300"
   ]
  },
  {
   "cell_type": "code",
   "execution_count": 180,
   "metadata": {},
   "outputs": [
    {
     "name": "stdout",
     "output_type": "stream",
     "text": [
      "108\n",
      "120\n",
      "132\n",
      "144\n",
      "156\n",
      "168\n",
      "180\n",
      "192\n",
      "204\n",
      "216\n",
      "228\n",
      "240\n",
      "252\n",
      "264\n",
      "276\n",
      "288\n",
      "300\n"
     ]
    }
   ],
   "source": [
    "num_max=300\n",
    "num_ini = 99\n",
    "while num_ini <= num_max:\n",
    "    num_ini += 1\n",
    "    div = num_ini%12    \n",
    "    if div!=0:\n",
    "        continue\n",
    "    print(num_ini)"
   ]
  },
  {
   "attachments": {},
   "cell_type": "markdown",
   "metadata": {},
   "source": [
    "13) Utilizar la función **input()** que permite hacer ingresos por teclado, para encontrar números primos y dar la opción al usario de buscar el siguiente"
   ]
  },
  {
   "cell_type": "code",
   "execution_count": 2,
   "metadata": {},
   "outputs": [
    {
     "name": "stdout",
     "output_type": "stream",
     "text": [
      "2  es primo\n",
      "¿Desea encontrar el siguiente número primo?\n"
     ]
    },
    {
     "name": "stdout",
     "output_type": "stream",
     "text": [
      "3  es primo\n",
      "¿Desea encontrar el siguiente número primo?\n",
      "5  es primo\n",
      "¿Desea encontrar el siguiente número primo?\n",
      "7  es primo\n",
      "¿Desea encontrar el siguiente número primo?\n",
      "11  es primo\n",
      "¿Desea encontrar el siguiente número primo?\n",
      "13  es primo\n",
      "¿Desea encontrar el siguiente número primo?\n",
      "Se finaliza el proceso\n"
     ]
    }
   ],
   "source": [
    "\n",
    "for i in range(2,30):\n",
    "#    print(f'----{i}-----')\n",
    "    j=1\n",
    "    cont = 0\n",
    "    primo = True\n",
    "    while j <= i:\n",
    "        div = i%j   \n",
    "        if div == 0:\n",
    "            cont +=1\n",
    "            if cont > 2:\n",
    "                primo = False\n",
    "                break   \n",
    "        j += 1\n",
    "    if primo:\n",
    "        print(i,' es primo')\n",
    "        print('¿Desea encontrar el siguiente número primo?')\n",
    "        if (input() != '1'):\n",
    "            print('Se finaliza el proceso')\n",
    "            break"
   ]
  },
  {
   "attachments": {},
   "cell_type": "markdown",
   "metadata": {},
   "source": [
    "14) Crear un ciclo while que encuentre dentro del rango de 100 a 300 el primer número divisible por 3 y además múltiplo de 6"
   ]
  },
  {
   "cell_type": "code",
   "execution_count": 30,
   "metadata": {},
   "outputs": [
    {
     "name": "stdout",
     "output_type": "stream",
     "text": [
      "102\n"
     ]
    }
   ],
   "source": [
    "num_max=300\n",
    "num_ini = 99\n",
    "while num_ini <= num_max:\n",
    "    num_ini += 1\n",
    "    div = num_ini%6 \n",
    "    if div==0:     \n",
    "        print(num_ini)\n",
    "        break\n",
    "            \n"
   ]
  },
  {
   "cell_type": "code",
   "execution_count": 29,
   "metadata": {},
   "outputs": [
    {
     "data": {
      "text/plain": [
       "0"
      ]
     },
     "execution_count": 29,
     "metadata": {},
     "output_type": "execute_result"
    }
   ],
   "source": [
    "105%3"
   ]
  }
 ],
 "metadata": {
  "interpreter": {
   "hash": "c85384e4cb51c8b72350f3a8712cc8351fdc3955e32a27f9b60c6242ab125f01"
  },
  "kernelspec": {
   "display_name": "Python 3 (ipykernel)",
   "language": "python",
   "name": "python3"
  },
  "language_info": {
   "codemirror_mode": {
    "name": "ipython",
    "version": 3
   },
   "file_extension": ".py",
   "mimetype": "text/x-python",
   "name": "python",
   "nbconvert_exporter": "python",
   "pygments_lexer": "ipython3",
   "version": "3.12.0"
  }
 },
 "nbformat": 4,
 "nbformat_minor": 4
}
